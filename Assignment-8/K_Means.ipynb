{
  "nbformat": 4,
  "nbformat_minor": 0,
  "metadata": {
    "colab": {
      "name": "K-Means.ipynb",
      "provenance": [],
      "collapsed_sections": []
    },
    "kernelspec": {
      "name": "python3",
      "display_name": "Python 3"
    },
    "language_info": {
      "name": "python"
    }
  },
  "cells": [
    {
      "cell_type": "markdown",
      "source": [
        "Implementasi Python"
      ],
      "metadata": {
        "id": "xplC2uf1w7Ij"
      }
    },
    {
      "cell_type": "code",
      "execution_count": null,
      "metadata": {
        "id": "110bpuRmtF_q"
      },
      "outputs": [],
      "source": [
        "from sklearn import datasets\n",
        "from sklearn.cluster import KMeans\n",
        "from sklearn.preprocessing import StandardScaler\n",
        "from scipy.spatial.distance import cdist\n",
        "import matplotlib.pyplot as plt"
      ]
    },
    {
      "cell_type": "code",
      "source": [
        "iris = datasets.load_iris()\n",
        "features = iris.data\n",
        "plt.scatter(features[:,0], features[:,1])\n",
        "plt.show()"
      ],
      "metadata": {
        "colab": {
          "base_uri": "https://localhost:8080/",
          "height": 268
        },
        "id": "IbpP1VnBt-ji",
        "outputId": "a7864f59-7806-4883-892a-d244a03f49b7"
      },
      "execution_count": null,
      "outputs": [
        {
          "output_type": "display_data",
          "data": {
            "text/plain": [
              "<Figure size 432x288 with 1 Axes>"
            ],
            "image/png": "[encoded data removed]"
          },
          "metadata": {
            "needs_background": "light"
          }
        }
      ]
    },
    {
      "cell_type": "code",
      "source": [
        "scaler = StandardScaler()\n",
        "features_standarrdized = scaler.fit_transform(features)"
      ],
      "metadata": {
        "id": "kC6pCt6LuVV4"
      },
      "execution_count": null,
      "outputs": []
    },
    {
      "cell_type": "code",
      "source": [
        "from sklearn.metrics import silhouette_samples,silhouette_score\n",
        "wcss = []\n",
        "for i in range (1,11):\n",
        "  kmeans = KMeans(n_clusters=i, init='k-means++',\n",
        "                  max_iter=300, n_init=10, random_state=0)\n",
        "  kmeans.fit(features)\n",
        "  wcss.append(kmeans.inertia_)\n",
        "plt.plot(range(1,11),wcss)\n",
        "plt.title('Elbow Method')\n",
        "plt.xlabel('Number of clusters')\n",
        "plt.ylabel('WCSS')\n",
        "plt.show()"
      ],
      "metadata": {
        "colab": {
          "base_uri": "https://localhost:8080/",
          "height": 295
        },
        "id": "_9SYIeU0uoy2",
        "outputId": "e3c10899-64ed-411f-93bb-6b6c5735ddba"
      },
      "execution_count": null,
      "outputs": [
        {
          "output_type": "display_data",
          "data": {
            "text/plain": [
              "<Figure size 432x288 with 1 Axes>"
            ],
            "image/png": "[encoded data removed]"
          },
          "metadata": {
            "needs_background": "light"
          }
        }
      ]
    },
    {
      "cell_type": "code",
      "source": [
        "kmeans = KMeans(n_clusters=4, init='k-means++', max_iter=300,n_init=10, random_state=0)\n",
        "pred_y = kmeans.fit_predict(features)\n",
        "plt.scatter(features[:,0],features[:,1])\n",
        "plt.scatter(kmeans.cluster_centers_[:,0],\n",
        "            kmeans.cluster_centers_[:,1], s=300, c='red')\n",
        "plt.show()"
      ],
      "metadata": {
        "colab": {
          "base_uri": "https://localhost:8080/",
          "height": 268
        },
        "id": "Ziipkl5nv4YL",
        "outputId": "101148c0-0556-47cb-905f-bd7b3d89a884"
      },
      "execution_count": null,
      "outputs": [
        {
          "output_type": "display_data",
          "data": {
            "text/plain": [
              "<Figure size 432x288 with 1 Axes>"
            ],
            "image/png": "[encoded data removed]"
          },
          "metadata": {
            "needs_background": "light"
          }
        }
      ]
    },
    {
      "cell_type": "markdown",
      "source": [
        "Implementasi python dengan dataset txt"
      ],
      "metadata": {
        "id": "arJNnm6dD_G0"
      }
    },
    {
      "cell_type": "code",
      "source": [
        "# Import Library yang dibutuhkan\n",
        "import numpy as np\n",
        "from matplotlib import pyplot as plt\n",
        "from matplotlib.pyplot import cm\n",
        "import time\n",
        "import itertools"
      ],
      "metadata": {
        "id": "_H4UVAfOw_45"
      },
      "execution_count": 4,
      "outputs": []
    },
    {
      "cell_type": "code",
      "source": [
        "# baca datset dari file\n",
        "datasetPath = \"dataku.txt\"\n",
        "dataset = np.loadtxt(datasetPath, delimiter = \" \")\n",
        "\n",
        "# mendefinisikan parameter kmeans klustering\n",
        "k = 2 # jumlah klaster yang diinginkan\n",
        "iterationCounter = 0 # counter untuk iterasi\n",
        "input = dataset # input data\n",
        "# fungsi untuk inisialisasi titik pusat klaster (random)\n",
        "def initCentroid(dataIn, k):\n",
        "    result = dataIn[np.random.choice(dataIn.shape[0], k, replace = False)]\n",
        "    return result"
      ],
      "metadata": {
        "id": "NjVfUNJPQ_Gn"
      },
      "execution_count": 6,
      "outputs": []
    },
    {
      "cell_type": "code",
      "source": [
        "# fungsi untuk plot hasil klaster per iterasi\n",
        "def plotClusterResult(listClusterMembers, centroid, iteration, converged):\n",
        "    n = listClusterMembers.__len__()\n",
        "    color = iter(cm.rainbow(np.linspace(0, 1, n)))\n",
        "    plt.figure(\"result\")\n",
        "    plt.clf()\n",
        "    plt.title(\"iteration-\" + iteration)\n",
        "    marker = itertools.cycle(('.', '*', '^', 'x', '+'))\n",
        "    for i in range(n):\n",
        "        col = next(color)\n",
        "        memberCluster = np.asmatrix(listClusterMembers[i])\n",
        "        plt.scatter(np.ravel(memberCluster[:, 0]), np.ravel(memberCluster[:,1]),\n",
        "                    marker=marker.__next__(), s=100, c=col, label=\"klaster-\"+str(i+1))\n",
        "    for i in range(n):\n",
        "        plt.scatter((centroid[i, 0]), (centroid[i, 1]), marker=marker.__next__(), \n",
        "                    c=col, label=\"centroid-\" + str(i+1))\n",
        "    if(converged == 0):\n",
        "        plt.legend()\n",
        "        plt.ion()\n",
        "        plt.show()\n",
        "        plt.pause(0.1)\n",
        "    if(converged == 1):\n",
        "        plt.legend()\n",
        "        plt.show(block = True)\n",
        "  "
      ],
      "metadata": {
        "id": "7aoJEGNIxfog"
      },
      "execution_count": 7,
      "outputs": []
    },
    {
      "cell_type": "code",
      "source": [
        "# fungsi utama algoritma kmeans\n",
        "def kMeans(data, centroidInit):\n",
        "    nCluster = k #banyaknya klaster\n",
        "    global iterationCounter\n",
        "    centroidInit = np.matrix(centroidInit)\n",
        "    # looping hingga konvergen\n",
        "    while(True):\n",
        "        iterationCounter +=1\n",
        "        euclideanMatrixAllCluster = np.ndarray(shape=(data.shape[0],0))\n",
        "        # ulangi proses untuk semua klaster\n",
        "        for i in range (0, nCluster):\n",
        "            centroidRepeated = np.repeat(centroidInit[i,:], data.shape[0], axis=0)\n",
        "            deltaMatrix = abs(np.subtract(data, centroidRepeated))\n",
        "            # hitung jarak Eulidean\n",
        "            euclideanMatrix=np.sqrt(np.square(deltaMatrix).sum(axis=1))\n",
        "            euclideanMatrixAllCluster = \\\n",
        "                np.concatenate((euclideanMatrixAllCluster,euclideanMatrix),axis=1)\n",
        "        # tempatkan data ke klaster yang jarak Eulideannya paling dekat\n",
        "        clusterMatrix = np.ravel(np.argmin(np.matrix(euclideanMatrixAllCluster),axis=1))\n",
        "        listClusterMember = [[]for i in range(k)]\n",
        "        for i in range(0, data.shape[0]):\n",
        "            listClusterMember[np.asscalar(clusterMatrix[i])].append(data[i,:])\n",
        "        # hitung titik pusat klaster terbaru\n",
        "        newCentroid =np.ndarray(shape=(0, centroidInit.shape[1]))\n",
        "        for i in range (0, nCluster):\n",
        "            memberCluster = np.asmatrix(listClusterMember[i])\n",
        "            centroidCluster = memberCluster.mean(axis=0)\n",
        "            newCentroid = np.concatenate((newCentroid, centroidCluster), axis=0)\n",
        "        print(\"iter: \",iterationCounter)\n",
        "        print(\"centroid: \",newCentroid)\n",
        "        # break dari loop jika sudah konvergen\n",
        "        if((centroidInit == newCentroid).all()):\n",
        "            break\n",
        "        # update titik pusat klaster dengan nilai yang baru\n",
        "        centroidInit = newCentroid\n",
        "        # plot hasil klaster per iterasi\n",
        "        plotClusterResult(listClusterMember, centroidInit, str(iterationCounter),0)\n",
        "        time.sleep(1) # diberi jeda 1 detik agar hasil plot klaster nyaman dilihat\n",
        "    return listClusterMember, centroidInit"
      ],
      "metadata": {
        "id": "Lynvmdw70Cu0"
      },
      "execution_count": 8,
      "outputs": []
    },
    {
      "cell_type": "code",
      "source": [
        "# panggil fungsi inisialisasi klaster\n",
        "centroidInit = initCentroid(input, k)\n",
        "# panggil semua fungsi kmeans\n",
        "clusterResults, centroid = kMeans(input, centroidInit)\n",
        "# plot hasil final klaster setelah konvergen\n",
        "plotClusterResult(clusterResults, centroid, str(iterationCounter) + \"(converged)\", 1)"
      ],
      "metadata": {
        "id": "XvMofZop_UNN"
      },
      "execution_count": null,
      "outputs": []
    },
    {
      "cell_type": "markdown",
      "source": [
        "Implementasi Python dengan Dataset CSV"
      ],
      "metadata": {
        "id": "BpeqRUFsSaDt"
      }
    },
    {
      "cell_type": "code",
      "source": [
        "# Import Library yang akan digunakan\n",
        "import matplotlib.pyplot as plt\n",
        "import numpy as np\n",
        "import pandas as pd\n",
        "from sklearn.cluster import KMeans"
      ],
      "metadata": {
        "id": "yLcGvFIzFlsb"
      },
      "execution_count": 10,
      "outputs": []
    },
    {
      "cell_type": "code",
      "source": [
        "# menyiapkan data dan memanggil dataset\n",
        "dataset = pd.read_csv('konsumen.csv')\n",
        "dataset.keys()"
      ],
      "metadata": {
        "colab": {
          "base_uri": "https://localhost:8080/"
        },
        "id": "2_rnGhbuSg8p",
        "outputId": "b20d4e59-ca5d-40bc-ff00-3c4b5c57f27f"
      },
      "execution_count": 11,
      "outputs": [
        {
          "output_type": "execute_result",
          "data": {
            "text/plain": [
              "Index(['Gaji', 'Pengeluaran'], dtype='object')"
            ]
          },
          "metadata": {},
          "execution_count": 11
        }
      ]
    },
    {
      "cell_type": "code",
      "source": [
        "dataku = pd.DataFrame(dataset)\n",
        "dataku.head()"
      ],
      "metadata": {
        "colab": {
          "base_uri": "https://localhost:8080/",
          "height": 206
        },
        "id": "bW6O2z-_SmHB",
        "outputId": "c67d44cb-7410-4e99-fa2e-7b5ebc12c1c8"
      },
      "execution_count": 12,
      "outputs": [
        {
          "output_type": "execute_result",
          "data": {
            "text/plain": [
              "   Gaji  Pengeluaran\n",
              "0  2500         1750\n",
              "1  3800         4200\n",
              "2  3900         3800\n",
              "3  4350         5500\n",
              "4  4400         3200"
            ],
            "text/html": [
              "\n",
              "  <div id=\"df-a831633a-e1bd-46a9-95ac-68327c329da1\">\n",
              "    <div class=\"colab-df-container\">\n",
              "      <div>\n",
              "<style scoped>\n",
              "    .dataframe tbody tr th:only-of-type {\n",
              "        vertical-align: middle;\n",
              "    }\n",
              "\n",
              "    .dataframe tbody tr th {\n",
              "        vertical-align: top;\n",
              "    }\n",
              "\n",
              "    .dataframe thead th {\n",
              "        text-align: right;\n",
              "    }\n",
              "</style>\n",
              "<table border=\"1\" class=\"dataframe\">\n",
              "  <thead>\n",
              "    <tr style=\"text-align: right;\">\n",
              "      <th></th>\n",
              "      <th>Gaji</th>\n",
              "      <th>Pengeluaran</th>\n",
              "    </tr>\n",
              "  </thead>\n",
              "  <tbody>\n",
              "    <tr>\n",
              "      <th>0</th>\n",
              "      <td>2500</td>\n",
              "      <td>1750</td>\n",
              "    </tr>\n",
              "    <tr>\n",
              "      <th>1</th>\n",
              "      <td>3800</td>\n",
              "      <td>4200</td>\n",
              "    </tr>\n",
              "    <tr>\n",
              "      <th>2</th>\n",
              "      <td>3900</td>\n",
              "      <td>3800</td>\n",
              "    </tr>\n",
              "    <tr>\n",
              "      <th>3</th>\n",
              "      <td>4350</td>\n",
              "      <td>5500</td>\n",
              "    </tr>\n",
              "    <tr>\n",
              "      <th>4</th>\n",
              "      <td>4400</td>\n",
              "      <td>3200</td>\n",
              "    </tr>\n",
              "  </tbody>\n",
              "</table>\n",
              "</div>\n",
              "      <button class=\"colab-df-convert\" onclick=\"convertToInteractive('df-a831633a-e1bd-46a9-95ac-68327c329da1')\"\n",
              "              title=\"Convert this dataframe to an interactive table.\"\n",
              "              style=\"display:none;\">\n",
              "        \n",
              "  <svg xmlns=\"http://www.w3.org/2000/svg\" height=\"24px\"viewBox=\"0 0 24 24\"\n",
              "       width=\"24px\">\n",
              "    <path d=\"M0 0h24v24H0V0z\" fill=\"none\"/>\n",
              "    <path d=\"M18.56 5.44l.94 2.06.94-2.06 2.06-.94-2.06-.94-.94-2.06-.94 2.06-2.06.94zm-11 1L8.5 8.5l.94-2.06 2.06-.94-2.06-.94L8.5 2.5l-.94 2.06-2.06.94zm10 10l.94 2.06.94-2.06 2.06-.94-2.06-.94-.94-2.06-.94 2.06-2.06.94z\"/><path d=\"M17.41 7.96l-1.37-1.37c-.4-.4-.92-.59-1.43-.59-.52 0-1.04.2-1.43.59L10.3 9.45l-7.72 7.72c-.78.78-.78 2.05 0 2.83L4 21.41c.39.39.9.59 1.41.59.51 0 1.02-.2 1.41-.59l7.78-7.78 2.81-2.81c.8-.78.8-2.07 0-2.86zM5.41 20L4 18.59l7.72-7.72 1.47 1.35L5.41 20z\"/>\n",
              "  </svg>\n",
              "      </button>\n",
              "      \n",
              "  <style>\n",
              "    .colab-df-container {\n",
              "      display:flex;\n",
              "      flex-wrap:wrap;\n",
              "      gap: 12px;\n",
              "    }\n",
              "\n",
              "    .colab-df-convert {\n",
              "      background-color: #E8F0FE;\n",
              "      border: none;\n",
              "      border-radius: 50%;\n",
              "      cursor: pointer;\n",
              "      display: none;\n",
              "      fill: #1967D2;\n",
              "      height: 32px;\n",
              "      padding: 0 0 0 0;\n",
              "      width: 32px;\n",
              "    }\n",
              "\n",
              "    .colab-df-convert:hover {\n",
              "      background-color: #E2EBFA;\n",
              "      box-shadow: 0px 1px 2px rgba(60, 64, 67, 0.3), 0px 1px 3px 1px rgba(60, 64, 67, 0.15);\n",
              "      fill: #174EA6;\n",
              "    }\n",
              "\n",
              "    [theme=dark] .colab-df-convert {\n",
              "      background-color: #3B4455;\n",
              "      fill: #D2E3FC;\n",
              "    }\n",
              "\n",
              "    [theme=dark] .colab-df-convert:hover {\n",
              "      background-color: #434B5C;\n",
              "      box-shadow: 0px 1px 3px 1px rgba(0, 0, 0, 0.15);\n",
              "      filter: drop-shadow(0px 1px 2px rgba(0, 0, 0, 0.3));\n",
              "      fill: #FFFFFF;\n",
              "    }\n",
              "  </style>\n",
              "\n",
              "      <script>\n",
              "        const buttonEl =\n",
              "          document.querySelector('#df-a831633a-e1bd-46a9-95ac-68327c329da1 button.colab-df-convert');\n",
              "        buttonEl.style.display =\n",
              "          google.colab.kernel.accessAllowed ? 'block' : 'none';\n",
              "\n",
              "        async function convertToInteractive(key) {\n",
              "          const element = document.querySelector('#df-a831633a-e1bd-46a9-95ac-68327c329da1');\n",
              "          const dataTable =\n",
              "            await google.colab.kernel.invokeFunction('convertToInteractive',\n",
              "                                                     [key], {});\n",
              "          if (!dataTable) return;\n",
              "\n",
              "          const docLinkHtml = 'Like what you see? Visit the ' +\n",
              "            '<a target=\"_blank\" href=https://colab.research.google.com/notebooks/data_table.ipynb>data table notebook</a>'\n",
              "            + ' to learn more about interactive tables.';\n",
              "          element.innerHTML = '';\n",
              "          dataTable['output_type'] = 'display_data';\n",
              "          await google.colab.output.renderOutput(dataTable, element);\n",
              "          const docLink = document.createElement('div');\n",
              "          docLink.innerHTML = docLinkHtml;\n",
              "          element.appendChild(docLink);\n",
              "        }\n",
              "      </script>\n",
              "    </div>\n",
              "  </div>\n",
              "  "
            ]
          },
          "metadata": {},
          "execution_count": 12
        }
      ]
    },
    {
      "cell_type": "code",
      "source": [
        "# Konversi dataset ke data array\n",
        "X = np.asarray(dataset)\n",
        "print(X)"
      ],
      "metadata": {
        "colab": {
          "base_uri": "https://localhost:8080/"
        },
        "id": "cTmDAF5UStu_",
        "outputId": "5ed1f1bc-4a18-4bfc-ba30-b77e8d907f5c"
      },
      "execution_count": 13,
      "outputs": [
        {
          "output_type": "stream",
          "name": "stdout",
          "text": [
            "[[ 2500  1750]\n",
            " [ 3800  4200]\n",
            " [ 3900  3800]\n",
            " [ 4350  5500]\n",
            " [ 4400  3200]\n",
            " [ 5500  5450]\n",
            " [ 5600  5950]\n",
            " [ 5750  4100]\n",
            " [ 6850  6050]\n",
            " [ 6900  8500]\n",
            " [ 7250  9500]\n",
            " [ 7350  6050]\n",
            " [ 7500  8500]\n",
            " [ 7800  9500]\n",
            " [ 8200  8300]\n",
            " [ 8500  6500]\n",
            " [ 8550  8400]\n",
            " [ 8750  6000]\n",
            " [ 9100 10500]\n",
            " [ 9100  8500]]\n"
          ]
        }
      ]
    },
    {
      "cell_type": "code",
      "source": [
        "# Menampilkan data array kedalam scatter plot\n",
        "plt.scatter(X[:,0], X[:,1], label='True Position')\n",
        "plt.xlabel('Gaji')\n",
        "plt.ylabel('pengeluaran')\n",
        "plt.title('grafik penyebaran data konsumen')\n",
        "plt.show"
      ],
      "metadata": {
        "colab": {
          "base_uri": "https://localhost:8080/",
          "height": 312
        },
        "id": "vbccswKiS0iu",
        "outputId": "82fac9de-eaae-46e9-e965-8a1fbd04ecc4"
      },
      "execution_count": 14,
      "outputs": [
        {
          "output_type": "execute_result",
          "data": {
            "text/plain": [
              "<function matplotlib.pyplot.show>"
            ]
          },
          "metadata": {},
          "execution_count": 14
        },
        {
          "output_type": "display_data",
          "data": {
            "text/plain": [
              "<Figure size 432x288 with 1 Axes>"
            ],
            "image/png": "[encoded data removed]"
          },
          "metadata": {
            "needs_background": "light"
          }
        }
      ]
    },
    {
      "cell_type": "code",
      "source": [
        "# mengaktifkan kmeans dengan jumlah k=2\n",
        "kmeans = KMeans(n_clusters=2)\n",
        "kmeans.fit(X)"
      ],
      "metadata": {
        "colab": {
          "base_uri": "https://localhost:8080/"
        },
        "id": "lmx5npsiS6_0",
        "outputId": "bd2b6f85-7a92-4280-f8a9-6e06062a296e"
      },
      "execution_count": 15,
      "outputs": [
        {
          "output_type": "execute_result",
          "data": {
            "text/plain": [
              "KMeans(n_clusters=2)"
            ]
          },
          "metadata": {},
          "execution_count": 15
        }
      ]
    },
    {
      "cell_type": "code",
      "source": [
        "# menampilkan nilai centroid yang digenerate oleh algoritma\n",
        "print(kmeans.cluster_centers_)"
      ],
      "metadata": {
        "colab": {
          "base_uri": "https://localhost:8080/"
        },
        "id": "O0g-9LxBS8eP",
        "outputId": "041ff513-9c87-4768-bb6a-4d4ca80b144c"
      },
      "execution_count": 16,
      "outputs": [
        {
          "output_type": "stream",
          "name": "stdout",
          "text": [
            "[[4475.   4243.75]\n",
            " [7987.5  8025.  ]]\n"
          ]
        }
      ]
    },
    {
      "cell_type": "code",
      "source": [
        "plt.scatter(X[:,0], X[:,1], c=kmeans.labels_, cmap=\"rainbow\")\n",
        "plt.xlabel('Gaji')\n",
        "plt.ylabel('pengeluaran')\n",
        "plt.title('Grafik hasil klastering data gaji dan pengeluaran konsumen')\n",
        "plt.show"
      ],
      "metadata": {
        "colab": {
          "base_uri": "https://localhost:8080/",
          "height": 312
        },
        "id": "Kf7e64WWTFD2",
        "outputId": "937329dd-f9e3-4680-c560-bf9923410b33"
      },
      "execution_count": 17,
      "outputs": [
        {
          "output_type": "execute_result",
          "data": {
            "text/plain": [
              "<function matplotlib.pyplot.show>"
            ]
          },
          "metadata": {},
          "execution_count": 17
        },
        {
          "output_type": "display_data",
          "data": {
            "text/plain": [
              "<Figure size 432x288 with 1 Axes>"
            ],
            "image/png": "[encoded data removed]"
          },
          "metadata": {
            "needs_background": "light"
          }
        }
      ]
    },
    {
      "cell_type": "code",
      "source": [
        "plt.scatter(X[:,0], X[:,1], c=kmeans.labels_, cmap=\"rainbow\")\n",
        "plt.scatter(kmeans.cluster_centers_[:,0], kmeans.cluster_centers_[:,1], color='black')\n",
        "plt.xlabel('Gaji')\n",
        "plt.ylabel('pengeluaran')\n",
        "plt.title('Grafik hasil klastering data gaji dan pengeluaran konsumen')\n",
        "plt.show"
      ],
      "metadata": {
        "colab": {
          "base_uri": "https://localhost:8080/",
          "height": 312
        },
        "id": "DvclW4JXTIwB",
        "outputId": "dfc93323-a7a9-437b-f457-27bc2e5b4e8a"
      },
      "execution_count": 18,
      "outputs": [
        {
          "output_type": "execute_result",
          "data": {
            "text/plain": [
              "<function matplotlib.pyplot.show>"
            ]
          },
          "metadata": {},
          "execution_count": 18
        },
        {
          "output_type": "display_data",
          "data": {
            "text/plain": [
              "<Figure size 432x288 with 1 Axes>"
            ],
            "image/png": "[encoded data removed]"
          },
          "metadata": {
            "needs_background": "light"
          }
        }
      ]
    }
  ]
}