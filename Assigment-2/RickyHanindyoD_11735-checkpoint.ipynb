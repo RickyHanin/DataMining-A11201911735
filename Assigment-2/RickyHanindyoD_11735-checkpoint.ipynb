{
 "cells": [
  {
   "cell_type": "code",
   "execution_count": 1,
   "id": "b31ab56c",
   "metadata": {},
   "outputs": [],
   "source": [
    "import pandas as pd\n",
    "df=pd.read_csv(\"datakelulusanmahasiswa.csv\")\n",
    "x = df.iloc[:, :-1].values\n",
    "y = df.iloc[:, -1].values"
   ]
  },
  {
   "cell_type": "code",
   "execution_count": 2,
   "id": "239574bf",
   "metadata": {},
   "outputs": [
    {
     "name": "stdout",
     "output_type": "stream",
     "text": [
      "[['ANIK WIDAYANTI' 'PEREMPUAN' 'BEKERJA' ... 3.03 0.0 3.07]\n",
      " ['DWI HESTYNA PRIHASTANTY' 'PEREMPUAN' 'MAHASISWA' ... 3.25 0.0 3.17]\n",
      " ['MURYA ARIEF BASUKI' 'PEREMPUAN' 'BEKERJA' ... 3.73 0.0 3.54]\n",
      " ...\n",
      " ['TULISA WAHYUHADI KRISNATAMI' 'PEREMPUAN' 'MAHASISWA' ... 3.14 3.0 3.03]\n",
      " [\"NI'MATUL JANNAH\" 'PEREMPUAN' 'MAHASISWA' ... 3.09 3.0 3.16]\n",
      " ['DINDU SETYO WICAKSONO' 'LAKI - LAKI' 'MAHASISWA' ... 2.41 3.0 2.16]]\n"
     ]
    }
   ],
   "source": [
    "print(x)"
   ]
  },
  {
   "cell_type": "code",
   "execution_count": 3,
   "id": "d012c0d4",
   "metadata": {},
   "outputs": [
    {
     "name": "stdout",
     "output_type": "stream",
     "text": [
      "['TERLAMBAT' 'TERLAMBAT' 'TERLAMBAT' 'TERLAMBAT' 'TERLAMBAT' 'TERLAMBAT'\n",
      " 'TEPAT' 'TEPAT' 'TERLAMBAT' 'TERLAMBAT' 'TERLAMBAT' 'TERLAMBAT'\n",
      " 'TERLAMBAT' 'TERLAMBAT' 'TERLAMBAT' 'TERLAMBAT' 'TERLAMBAT' 'TERLAMBAT'\n",
      " 'TERLAMBAT' 'TEPAT' 'TERLAMBAT' 'TERLAMBAT' 'TERLAMBAT' 'TERLAMBAT'\n",
      " 'TERLAMBAT' 'TERLAMBAT' 'TERLAMBAT' 'TERLAMBAT' 'TEPAT' 'TERLAMBAT'\n",
      " 'TEPAT' 'TERLAMBAT' 'TEPAT' 'TEPAT' 'TERLAMBAT' 'TERLAMBAT' 'TEPAT'\n",
      " 'TERLAMBAT' 'TERLAMBAT' 'TERLAMBAT' 'TERLAMBAT' 'TERLAMBAT' 'TERLAMBAT'\n",
      " 'TERLAMBAT' 'TERLAMBAT' 'TERLAMBAT' 'TERLAMBAT' 'TEPAT' 'TEPAT'\n",
      " 'TERLAMBAT' 'TERLAMBAT' 'TERLAMBAT' 'TERLAMBAT' 'TERLAMBAT' 'TERLAMBAT'\n",
      " 'TERLAMBAT' 'TERLAMBAT' 'TERLAMBAT' 'TERLAMBAT' 'TEPAT' 'TERLAMBAT'\n",
      " 'TERLAMBAT' 'TERLAMBAT' 'TERLAMBAT' 'TEPAT' 'TERLAMBAT' 'TEPAT'\n",
      " 'TERLAMBAT' 'TEPAT' 'TERLAMBAT' 'TERLAMBAT' 'TERLAMBAT' 'TERLAMBAT'\n",
      " 'TERLAMBAT' 'TERLAMBAT' 'TERLAMBAT' 'TERLAMBAT' 'TERLAMBAT' 'TERLAMBAT'\n",
      " 'TERLAMBAT' 'TERLAMBAT' 'TEPAT' 'TERLAMBAT' 'TERLAMBAT' 'TERLAMBAT'\n",
      " 'TERLAMBAT' 'TEPAT' 'TERLAMBAT' 'TEPAT' 'TERLAMBAT' 'TERLAMBAT'\n",
      " 'TERLAMBAT' 'TERLAMBAT' 'TEPAT' 'TERLAMBAT' 'TERLAMBAT' 'TERLAMBAT'\n",
      " 'TERLAMBAT' 'TERLAMBAT' 'TERLAMBAT' 'TERLAMBAT' 'TERLAMBAT' 'TEPAT'\n",
      " 'TERLAMBAT' 'TERLAMBAT' 'TEPAT' 'TEPAT' 'TERLAMBAT' 'TERLAMBAT'\n",
      " 'TERLAMBAT' 'TERLAMBAT' 'TEPAT' 'TEPAT' 'TEPAT' 'TEPAT' 'TERLAMBAT'\n",
      " 'TERLAMBAT' 'TEPAT' 'TERLAMBAT' 'TEPAT' 'TERLAMBAT' 'TERLAMBAT' 'TEPAT'\n",
      " 'TERLAMBAT' 'TEPAT' 'TEPAT' 'TEPAT' 'TEPAT' 'TEPAT' 'TERLAMBAT'\n",
      " 'TERLAMBAT' 'TERLAMBAT' 'TERLAMBAT' 'TERLAMBAT' 'TERLAMBAT' 'TERLAMBAT'\n",
      " 'TERLAMBAT' 'TERLAMBAT' 'TERLAMBAT' 'TERLAMBAT' 'TERLAMBAT' 'TERLAMBAT'\n",
      " 'TEPAT' 'TERLAMBAT' 'TEPAT' 'TEPAT' 'TEPAT' 'TERLAMBAT' 'TERLAMBAT'\n",
      " 'TEPAT' 'TERLAMBAT' 'TEPAT' 'TEPAT' 'TEPAT' 'TERLAMBAT' 'TEPAT'\n",
      " 'TERLAMBAT' 'TERLAMBAT' 'TERLAMBAT' 'TERLAMBAT' 'TEPAT' 'TEPAT'\n",
      " 'TERLAMBAT' 'TERLAMBAT' 'TERLAMBAT' 'TEPAT' 'TEPAT' 'TERLAMBAT'\n",
      " 'TERLAMBAT' 'TERLAMBAT' 'TEPAT' 'TERLAMBAT' 'TERLAMBAT' 'TERLAMBAT'\n",
      " 'TERLAMBAT' 'TEPAT' 'TERLAMBAT' 'TEPAT' 'TERLAMBAT' 'TEPAT' 'TERLAMBAT'\n",
      " 'TEPAT' 'TERLAMBAT' 'TEPAT' 'TEPAT' 'TERLAMBAT' 'TERLAMBAT' 'TERLAMBAT'\n",
      " 'TERLAMBAT' 'TERLAMBAT' 'TERLAMBAT' 'TERLAMBAT' 'TERLAMBAT' 'TEPAT'\n",
      " 'TERLAMBAT' 'TERLAMBAT' 'TERLAMBAT' 'TERLAMBAT' 'TERLAMBAT' 'TERLAMBAT'\n",
      " 'TEPAT' 'TEPAT' 'TERLAMBAT' 'TEPAT' 'TERLAMBAT' 'TERLAMBAT' 'TEPAT'\n",
      " 'TEPAT' 'TEPAT' 'TEPAT' 'TERLAMBAT' 'TERLAMBAT' 'TEPAT' 'TERLAMBAT'\n",
      " 'TERLAMBAT' 'TERLAMBAT' 'TEPAT' 'TERLAMBAT' 'TEPAT' 'TERLAMBAT' 'TEPAT'\n",
      " 'TEPAT' 'TEPAT' 'TEPAT' 'TEPAT' 'TEPAT' 'TEPAT' 'TERLAMBAT' 'TERLAMBAT'\n",
      " 'TERLAMBAT' 'TERLAMBAT' 'TEPAT' 'TEPAT' 'TERLAMBAT' 'TEPAT' 'TEPAT'\n",
      " 'TEPAT' 'TEPAT' 'TEPAT' 'TEPAT' 'TEPAT' 'TEPAT' 'TEPAT' 'TEPAT' 'TEPAT'\n",
      " 'TEPAT' 'TEPAT' 'TEPAT' 'TEPAT' 'TEPAT' 'TEPAT' 'TEPAT' 'TEPAT' 'TEPAT'\n",
      " 'TEPAT' 'TEPAT' 'TEPAT' 'TEPAT' 'TEPAT' 'TEPAT' 'TEPAT' 'TEPAT' 'TEPAT'\n",
      " 'TEPAT' 'TEPAT' 'TEPAT' 'TEPAT' 'TEPAT' 'TEPAT' 'TEPAT' 'TEPAT' 'TEPAT'\n",
      " 'TEPAT' 'TEPAT' 'TEPAT' 'TEPAT' 'TEPAT' 'TEPAT' 'TEPAT' 'TEPAT' 'TEPAT'\n",
      " 'TEPAT' 'TEPAT' 'TEPAT' 'TEPAT' 'TEPAT' 'TEPAT' 'TEPAT' 'TEPAT' 'TEPAT'\n",
      " 'TEPAT' 'TEPAT' 'TEPAT' 'TEPAT' 'TEPAT' 'TEPAT' 'TEPAT' 'TEPAT' 'TEPAT'\n",
      " 'TEPAT' 'TEPAT' 'TEPAT' 'TEPAT' 'TEPAT' 'TEPAT' 'TEPAT' 'TEPAT' 'TEPAT'\n",
      " 'TEPAT' 'TEPAT' 'TEPAT' 'TEPAT' 'TEPAT' 'TEPAT' 'TEPAT' 'TEPAT' 'TEPAT'\n",
      " 'TEPAT' 'TEPAT' 'TEPAT' 'TEPAT' 'TEPAT' 'TEPAT' 'TEPAT' 'TEPAT' 'TEPAT'\n",
      " 'TEPAT' 'TEPAT' 'TEPAT' 'TERLAMBAT' 'TEPAT' 'TEPAT' 'TEPAT' 'TEPAT'\n",
      " 'TEPAT' 'TEPAT' 'TEPAT' 'TEPAT' 'TEPAT' 'TEPAT' 'TEPAT' 'TEPAT' 'TEPAT'\n",
      " 'TEPAT' 'TEPAT' 'TEPAT' 'TEPAT' 'TEPAT' 'TEPAT' 'TEPAT' 'TEPAT' 'TEPAT'\n",
      " 'TEPAT' 'TEPAT' 'TEPAT' 'TEPAT' 'TEPAT' 'TEPAT' 'TEPAT' 'TEPAT' 'TEPAT'\n",
      " 'TEPAT' 'TEPAT' 'TEPAT' 'TEPAT' 'TERLAMBAT' 'TEPAT' 'TEPAT' 'TEPAT'\n",
      " 'TEPAT' 'TEPAT' 'TEPAT' 'TEPAT' 'TEPAT' 'TEPAT' 'TEPAT' 'TEPAT' 'TEPAT'\n",
      " 'TEPAT']\n"
     ]
    }
   ],
   "source": [
    "print(y)"
   ]
  },
  {
   "cell_type": "code",
   "execution_count": null,
   "id": "4f9c358d",
   "metadata": {},
   "outputs": [],
   "source": []
  }
 ],
 "metadata": {
  "kernelspec": {
   "display_name": "Python 3 (ipykernel)",
   "language": "python",
   "name": "python3"
  },
  "language_info": {
   "codemirror_mode": {
    "name": "ipython",
    "version": 3
   },
   "file_extension": ".py",
   "mimetype": "text/x-python",
   "name": "python",
   "nbconvert_exporter": "python",
   "pygments_lexer": "ipython3",
   "version": "3.9.7"
  }
 },
 "nbformat": 4,
 "nbformat_minor": 5
}
