{
  "nbformat": 4,
  "nbformat_minor": 0,
  "metadata": {
    "colab": {
      "name": "MultilayerPerceptron.ipynb",
      "provenance": []
    },
    "kernelspec": {
      "name": "python3",
      "display_name": "Python 3"
    },
    "language_info": {
      "name": "python"
    }
  },
  "cells": [
    {
      "cell_type": "markdown",
      "source": [
        "Multi Layer Perceptron (MLP)"
      ],
      "metadata": {
        "id": "dctFUDLc6EOy"
      }
    },
    {
      "cell_type": "code",
      "execution_count": 1,
      "metadata": {
        "id": "H95i4IibzMyv"
      },
      "outputs": [],
      "source": [
        "import numpy as np"
      ]
    },
    {
      "cell_type": "code",
      "source": [
        "def forwardPass(inputs,weight, bias, activation = 'linier'):\n",
        "  w_sum = np.dot(inputs, weight) + bias\n",
        "  if activation is 'relu':\n",
        "    act = np.maximum(w_sum,0)\n",
        "  else :\n",
        "    act = w_sum\n",
        "\n",
        "  return act"
      ],
      "metadata": {
        "id": "8CmWFLsRzcAQ"
      },
      "execution_count": 2,
      "outputs": []
    },
    {
      "cell_type": "code",
      "source": [
        "# Pre-Trained Weights & Biases after Training\n",
        "W_H = np.array([[0.00192761, -0.78845304, 0.30310717, 0.44131625, 0.32792646, -0.02451803, 1.43445349, -1.12972116]])\n",
        "b_H = np.array([-0.02657719, -1.15885878, -0.79183501, -0.33550513, -0.23438406, -0.25078532, 0.22305705, 0.80253315])\n",
        "\n",
        "W_o = np.array([[-0.77540326], [ 0.5030424 ], [ 0.37374797], [-0.20287184], [-0.35956827], [-0.54576212], [ 1.04326093], [ 0.8857621 ]])\n",
        "b_o = np.array([ 0.04351173])"
      ],
      "metadata": {
        "id": "4SbZhzJG488X"
      },
      "execution_count": 9,
      "outputs": []
    },
    {
      "cell_type": "code",
      "source": [
        "# Initialize Input Data\n",
        "inputs = np.array([[-2], [0], [2]])"
      ],
      "metadata": {
        "id": "OmnB46kK5A_M"
      },
      "execution_count": 10,
      "outputs": []
    },
    {
      "cell_type": "code",
      "source": [
        "#Output of Hidden Layer\n",
        "h_out = forwardPass(inputs, W_H, b_H, 'relu')"
      ],
      "metadata": {
        "id": "Jf36k8P95EZl"
      },
      "execution_count": 5,
      "outputs": []
    },
    {
      "cell_type": "code",
      "source": [
        "print('Hidden Layer Output (ReLU)')\n",
        "print('================================')\n",
        "print(h_out, \"\\n\")"
      ],
      "metadata": {
        "id": "fYD98sNh5HhP"
      },
      "execution_count": null,
      "outputs": []
    },
    {
      "cell_type": "code",
      "source": [
        "# Output of Output Layer\n",
        "o_out = forwardPass(h_out, W_o, b_o, 'linear')"
      ],
      "metadata": {
        "id": "ftc_BoCM5LhP"
      },
      "execution_count": 13,
      "outputs": []
    },
    {
      "cell_type": "code",
      "source": [
        "print('Output Layer Output (Linear)')\n",
        "print('================================')\n",
        "print(o_out, \"\\n\")"
      ],
      "metadata": {
        "id": "K8EDmoTQ5Qcm"
      },
      "execution_count": null,
      "outputs": []
    },
    {
      "cell_type": "markdown",
      "source": [
        "output nilai yang dihasilkan seharusnya adalah 3,1,3 dan hasil prediksinya adalah 2.96598907, 0.98707188, 3.00669343\n",
        "masih terdapat sedikit error tetapi hasil menunjukkan bahwa MLP dapat melakukan regresi terhadap fungsi non-linier dengan cukup baik"
      ],
      "metadata": {
        "id": "Jm0edY-O8QMl"
      }
    }
  ]
}