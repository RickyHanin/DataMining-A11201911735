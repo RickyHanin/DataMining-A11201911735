{
  "nbformat": 4,
  "nbformat_minor": 0,
  "metadata": {
    "colab": {
      "name": "ForwardPropagation.ipynb",
      "provenance": []
    },
    "kernelspec": {
      "name": "python3",
      "display_name": "Python 3"
    },
    "language_info": {
      "name": "python"
    }
  },
  "cells": [
    {
      "cell_type": "markdown",
      "source": [
        "Single Layer Perceptron (SLP)"
      ],
      "metadata": {
        "id": "JriA1D914qit"
      }
    },
    {
      "cell_type": "code",
      "execution_count": 1,
      "metadata": {
        "id": "eMicsMMJvQiE"
      },
      "outputs": [],
      "source": [
        "import numpy as np"
      ]
    },
    {
      "cell_type": "code",
      "source": [
        "def forwardPass(inputs, weight, bias):\n",
        "  w_sum = np.dot(inputs, weight) + bias\n",
        "  #Linier Activation f(x) = x\n",
        "  act = w_sum\n",
        "  return act"
      ],
      "metadata": {
        "id": "3qkf8cfUvlB4"
      },
      "execution_count": 2,
      "outputs": []
    },
    {
      "cell_type": "code",
      "source": [
        "#pre-Trained Weight & Biases after Training\n",
        "W= np.array([[2.9999999999]])\n",
        "b= np.array([[1.999999999]])"
      ],
      "metadata": {
        "id": "1Xra7gSXwHMb"
      },
      "execution_count": 21,
      "outputs": []
    },
    {
      "cell_type": "code",
      "source": [
        "#initilize Input Data\n",
        "inputs = np.array([[7],[8],[9],[10]])"
      ],
      "metadata": {
        "id": "Eg40_UQTwiwv"
      },
      "execution_count": 11,
      "outputs": []
    },
    {
      "cell_type": "code",
      "source": [
        "# Output of Output Layer\n",
        "o_out = forwardPass(inputs,W,b)\n",
        "\n",
        "print('Output Layer Output (Linier)')\n",
        "print('============================')\n",
        "print(o_out, \"\\n\")"
      ],
      "metadata": {
        "colab": {
          "base_uri": "https://localhost:8080/"
        },
        "id": "TvGcETcGw2yg",
        "outputId": "97d86b0a-1247-4c0e-a9d9-eec8fb59bc50"
      },
      "execution_count": 22,
      "outputs": [
        {
          "output_type": "stream",
          "name": "stdout",
          "text": [
            "Output Layer Output (Linier)\n",
            "============================\n",
            "[[23.]\n",
            " [26.]\n",
            " [29.]\n",
            " [32.]] \n",
            "\n"
          ]
        }
      ]
    }
  ]
}