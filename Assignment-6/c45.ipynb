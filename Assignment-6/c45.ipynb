{
  "nbformat": 4,
  "nbformat_minor": 0,
  "metadata": {
    "colab": {
      "name": "c45.ipynb",
      "provenance": []
    },
    "kernelspec": {
      "name": "python3",
      "display_name": "Python 3"
    },
    "language_info": {
      "name": "python"
    }
  },
  "cells": [
    {
      "cell_type": "code",
      "execution_count": 1,
      "metadata": {
        "id": "3-qznCjNF-_E"
      },
      "outputs": [],
      "source": [
        "#Import Library Scikit Learn untuk Decision Tree, Dataset dan Matplotlib\n",
        "from sklearn.tree import DecisionTreeClassifier\n",
        "from sklearn import datasets\n",
        "import matplotlib.pyplot as plt"
      ]
    },
    {
      "cell_type": "code",
      "source": [
        "#Load Dataset Iris dari Library Scikit Learn\n",
        "social = datasets.load_iris()\n",
        "features = social['data']\n",
        "target = social['target']"
      ],
      "metadata": {
        "id": "z0GfdvfZGMVU"
      },
      "execution_count": 10,
      "outputs": []
    },
    {
      "cell_type": "code",
      "source": [
        "#Membuat Obejek Model Decision Tree\n",
        "decisiontree = DecisionTreeClassifier(random_state=0, \n",
        "max_depth=None, min_samples_split=2, min_samples_leaf=1, \n",
        "min_weight_fraction_leaf=0, max_leaf_nodes=None, min_impurity_decrease=0)"
      ],
      "metadata": {
        "id": "5kPrQI0LG6Aw"
      },
      "execution_count": 11,
      "outputs": []
    },
    {
      "cell_type": "code",
      "source": [
        "#Mentraining Model Decision Tree\n",
        "mdl = decisiontree.fit(features, target)"
      ],
      "metadata": {
        "id": "rFtGvuwYG-EZ"
      },
      "execution_count": 12,
      "outputs": []
    },
    {
      "cell_type": "code",
      "source": [
        "#Mengambil sampel observation dan membuat prediksi\n",
        "#Sampel berup data dimensi kelopak\n",
        "#Fungsi predict() = memeriksa kelas yang dimilikinya\n",
        "#Fungsi predict_proba() = memeriksa probabilitas kelas dari prediksi tersebut\n",
        "observation = [[5, 4, 3, 2]]\n",
        "mdl.predict(observation)\n",
        "mdl.predict_proba(observation)"
      ],
      "metadata": {
        "colab": {
          "base_uri": "https://localhost:8080/"
        },
        "id": "1kL92OmWHAvQ",
        "outputId": "2573b158-2509-4093-ed8f-9448206840e0"
      },
      "execution_count": 13,
      "outputs": [
        {
          "output_type": "execute_result",
          "data": {
            "text/plain": [
              "array([[0., 1., 0.]])"
            ]
          },
          "metadata": {},
          "execution_count": 13
        }
      ]
    },
    {
      "cell_type": "code",
      "source": [
        "#Membuat grafik visualisasi Decision Tree\n",
        "from IPython.core.display import Image\n",
        "import pydotplus\n",
        "from sklearn import tree\n",
        "dot_data = tree.export_graphviz(decisiontree, out_file=None, \n",
        "    feature_names=social['feature_names'], class_names=social['target_names'])\n",
        "from IPython.display import Image\n",
        "graph = pydotplus.graph_from_dot_data(dot_data)\n",
        "Image(graph.create_png())\n",
        "graph.write_png('social.png')"
      ],
      "metadata": {
        "colab": {
          "base_uri": "https://localhost:8080/"
        },
        "id": "366-tfkRHJ-v",
        "outputId": "9c76f3c5-e8c9-486a-948a-6677b2159da3"
      },
      "execution_count": 14,
      "outputs": [
        {
          "output_type": "execute_result",
          "data": {
            "text/plain": [
              "True"
            ]
          },
          "metadata": {},
          "execution_count": 14
        }
      ]
    },
    {
      "cell_type": "code",
      "source": [
        "#Import Library Numpy, Pandas dan Scikit Learn\n",
        "import numpy as np\n",
        "import pandas as pd\n",
        "from sklearn import tree"
      ],
      "metadata": {
        "id": "53jKdCZIH1oQ"
      },
      "execution_count": 15,
      "outputs": []
    },
    {
      "cell_type": "code",
      "source": [
        "#Membaca Dataset dari File ke Pandas dataFrame\n",
        "Dataset = pd.read_csv('SocialNA.csv', delimiter=',', header=0)"
      ],
      "metadata": {
        "id": "7zE3KdrTH5XM"
      },
      "execution_count": 16,
      "outputs": []
    },
    {
      "cell_type": "code",
      "source": [
        "#Mengubah kelas (kolom \"Species\") dari String ke Unique-Integer\n",
        "Dataset[\"Gender\"] = pd.factorize(Dataset.Gender)[0]"
      ],
      "metadata": {
        "id": "UHkuK4MAH8Nd"
      },
      "execution_count": 17,
      "outputs": []
    },
    {
      "cell_type": "code",
      "source": [
        "#Menghapus kolom \"Id\"\n",
        "Dataset = Dataset.drop(labels=\"id\", axis=1)"
      ],
      "metadata": {
        "id": "Hok4b_H1H_Im"
      },
      "execution_count": 18,
      "outputs": []
    },
    {
      "cell_type": "code",
      "source": [
        "#Mengubah dataFrame ke Array Numpy\n",
        "Dataset = Dataset.to_numpy()"
      ],
      "metadata": {
        "id": "ciobBgBeICI2"
      },
      "execution_count": 19,
      "outputs": []
    },
    {
      "cell_type": "code",
      "source": [
        "#Membagi Dataset => 80 baris data untuk Training dan 20 baris data untuk Testing\n",
        "dataTraining = np.concatenate((Dataset[0:40,:],\n",
        "                               Dataset[50:90,:]), axis=0)\n",
        "dataTesting = np.concatenate((Dataset[40:50,:],\n",
        "                               Dataset[90:100,:]), axis=0)"
      ],
      "metadata": {
        "id": "jk5iMMVQIERy"
      },
      "execution_count": 20,
      "outputs": []
    },
    {
      "cell_type": "code",
      "source": [
        "#Memecah Dataset ke Input dan Label\n",
        "inputTraining = dataTraining[:,0:3]\n",
        "inputTesting = dataTesting[:,0:3]\n",
        "labelTraining = dataTraining[:,3]\n",
        "labelTesting = dataTesting[:,3]"
      ],
      "metadata": {
        "id": "fFfhUe7OIJAP"
      },
      "execution_count": 21,
      "outputs": []
    },
    {
      "cell_type": "code",
      "source": [
        "#Mendefinisikan Decision Tree Classifier\n",
        "mdl = tree.DecisionTreeClassifier()"
      ],
      "metadata": {
        "id": "_DXRRKYLILug"
      },
      "execution_count": 22,
      "outputs": []
    },
    {
      "cell_type": "code",
      "source": [
        "#Mentraining Model\n",
        "mdl = mdl.fit(inputTraining, labelTraining)"
      ],
      "metadata": {
        "id": "_Z7CnKk6IOl8"
      },
      "execution_count": 23,
      "outputs": []
    },
    {
      "cell_type": "code",
      "source": [
        "#Memprediksi Input Data Testing\n",
        "hasilPrediksi = mdl.predict(inputTesting)\n",
        "print(\" label sebenarnya \", labelTesting)\n",
        "print(\" hasil prediksi \", hasilPrediksi)\n",
        "#Menghitung Akurasi\n",
        "prediksiBenar = (hasilPrediksi == labelTesting).sum()\n",
        "prediksiSalah = (hasilPrediksi != labelTesting).sum()\n",
        "print(\" Prediksi Benar \", prediksiBenar, \" data \")\n",
        "print(\" Prediksi Salah \", prediksiSalah, \" data \")\n",
        "print(\" akurasi: \", prediksiBenar/(prediksiBenar+prediksiSalah)* 100, \"%\")"
      ],
      "metadata": {
        "colab": {
          "base_uri": "https://localhost:8080/"
        },
        "id": "PeOLr78pIRFy",
        "outputId": "aaf5db3d-3342-4591-9dc3-cc84d0f4661c"
      },
      "execution_count": 24,
      "outputs": [
        {
          "output_type": "stream",
          "name": "stdout",
          "text": [
            " label sebenarnya  [0 0 0 0 0 0 0 0 1 0 0 0 0 0 0 0 0 1 0 0]\n",
            " hasil prediksi  [0 0 1 0 0 0 0 0 1 0 0 0 0 0 0 0 0 1 0 0]\n",
            " Prediksi Benar  19  data \n",
            " Prediksi Salah  1  data \n",
            " akurasi:  95.0 %\n"
          ]
        }
      ]
    }
  ]
}